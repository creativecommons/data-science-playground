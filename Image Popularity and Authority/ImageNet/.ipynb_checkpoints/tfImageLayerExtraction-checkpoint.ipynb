{
 "cells": [
  {
   "cell_type": "code",
   "execution_count": 44,
   "metadata": {},
   "outputs": [],
   "source": [
    "import tensorflow as tf\n",
    "from tensorflow import keras\n",
    "from tensorflow.keras import layers"
   ]
  },
  {
   "cell_type": "code",
   "execution_count": 45,
   "metadata": {},
   "outputs": [],
   "source": [
    "## Load the VGG16 model \n",
    "model = tf.keras.applications.VGG16(\n",
    "    include_top=True, weights='imagenet', input_tensor=None, input_shape=None,\n",
    "    pooling=None, classes=1000, classifier_activation='softmax'\n",
    ")\n"
   ]
  },
  {
   "cell_type": "code",
   "execution_count": 46,
   "metadata": {},
   "outputs": [
    {
     "name": "stdout",
     "output_type": "stream",
     "text": [
      "<tensorflow.python.keras.engine.functional.Functional object at 0x7ffb4446e190>\n"
     ]
    }
   ],
   "source": [
    "print(model)"
   ]
  },
  {
   "cell_type": "code",
   "execution_count": 47,
   "metadata": {},
   "outputs": [
    {
     "data": {
      "text/plain": [
       "[<tf.Tensor 'input_2:0' shape=(None, 224, 224, 3) dtype=float32>]"
      ]
     },
     "execution_count": 47,
     "metadata": {},
     "output_type": "execute_result"
    }
   ],
   "source": [
    "## Model inputs\n",
    "model.inputs"
   ]
  },
  {
   "cell_type": "code",
   "execution_count": 48,
   "metadata": {},
   "outputs": [
    {
     "data": {
      "text/plain": [
       "[<tf.Tensor 'predictions/Softmax_1:0' shape=(None, 1000) dtype=float32>]"
      ]
     },
     "execution_count": 48,
     "metadata": {},
     "output_type": "execute_result"
    }
   ],
   "source": [
    "## Model outputs\n",
    "model.outputs"
   ]
  },
  {
   "cell_type": "code",
   "execution_count": 49,
   "metadata": {},
   "outputs": [],
   "source": [
    "## Set image height and width for preprocessing \n",
    "img_height = 224\n",
    "img_width = 224"
   ]
  },
  {
   "cell_type": "code",
   "execution_count": 50,
   "metadata": {},
   "outputs": [],
   "source": [
    "## Import classification labels. See imagenet_classes.py\n",
    "from imagenet_classes import class_names"
   ]
  },
  {
   "cell_type": "code",
   "execution_count": 54,
   "metadata": {},
   "outputs": [],
   "source": [
    "## Local path of image to classify\n",
    "img_path = 'tricycle.jpg'"
   ]
  },
  {
   "cell_type": "code",
   "execution_count": 55,
   "metadata": {},
   "outputs": [],
   "source": [
    "## Preprocess the image \n",
    "img = keras.preprocessing.image.load_img(\n",
    "    img_path, target_size=(img_height, img_width)\n",
    ")\n",
    "img_array = keras.preprocessing.image.img_to_array(img)\n",
    "img_array = tf.expand_dims(img_array, 0) # Create a batch"
   ]
  },
  {
   "cell_type": "code",
   "execution_count": 56,
   "metadata": {},
   "outputs": [
    {
     "name": "stdout",
     "output_type": "stream",
     "text": [
      "This image most likely belongs to tricycle, trike, velocipede with a 0.27 percent confidence.\n"
     ]
    }
   ],
   "source": [
    "## Classify the image\n",
    "predictions = model.predict(img_array)\n",
    "score = tf.nn.softmax(predictions[0])\n",
    "\n",
    "print(\n",
    "    \"This image most likely belongs to {} with a {:.2f} percent confidence.\"\n",
    "    .format(class_names[np.argmax(score)], 100 * np.max(score))\n",
    ")\n"
   ]
  },
  {
   "cell_type": "code",
   "execution_count": 57,
   "metadata": {},
   "outputs": [
    {
     "name": "stdout",
     "output_type": "stream",
     "text": [
      "<tensorflow.python.keras.engine.functional.Functional object at 0x7ffb44032fd0>\n"
     ]
    }
   ],
   "source": [
    "## Extract a layer from the model. \n",
    "## Layer names can be found here: https://github.com/tensorflow/tensorflow/blob/v2.3.1/tensorflow/python/keras/applications/vgg16.py\n",
    "## Guide: https://www.gcptutorials.com/post/how-to-extract-features-from-layers-in-tensorflow \n",
    "features_layer1 = tf.keras.models.Model(\n",
    "    inputs=model.inputs,\n",
    "    outputs=model.get_layer(name='block1_conv1').output,\n",
    ")\n",
    "\n",
    "print(features_layer1)"
   ]
  },
  {
   "cell_type": "code",
   "execution_count": 58,
   "metadata": {},
   "outputs": [
    {
     "data": {
      "text/plain": [
       "<tf.Tensor: shape=(1, 224, 224, 64), dtype=float32, numpy=\n",
       "array([[[[  0.       ,  53.05183  ,   0.       , ...,   0.       ,\n",
       "           57.581234 ,   0.       ],\n",
       "         [  0.       ,  49.690525 , 150.26212  , ...,   0.       ,\n",
       "          591.58234  , 302.26395  ],\n",
       "         [  0.       ,  49.690525 , 150.26212  , ...,   0.       ,\n",
       "          591.58234  , 302.26395  ],\n",
       "         ...,\n",
       "         [  0.       ,  49.690525 , 150.26212  , ...,   0.       ,\n",
       "          591.58234  , 302.26395  ],\n",
       "         [  0.       ,  49.690525 , 150.26212  , ...,   0.       ,\n",
       "          591.58234  , 302.26395  ],\n",
       "         [  4.656199 ,  35.0211   , 316.7973   , ...,   0.       ,\n",
       "          943.8628   , 715.88824  ]],\n",
       "\n",
       "        [[  0.       ,  68.91937  ,   0.       , ...,   0.       ,\n",
       "            0.       ,   0.       ],\n",
       "         [  3.71517  ,  56.749004 , 115.33566  , ...,   0.       ,\n",
       "            2.9643915,  21.566965 ],\n",
       "         [  3.71517  ,  56.749004 , 115.33566  , ...,   0.       ,\n",
       "            2.9643915,  21.566965 ],\n",
       "         ...,\n",
       "         [  3.71517  ,  56.749004 , 115.33566  , ...,   0.       ,\n",
       "            2.9643915,  21.566965 ],\n",
       "         [  3.71517  ,  56.749004 , 115.33566  , ...,   0.       ,\n",
       "            2.9643915,  21.566965 ],\n",
       "         [688.5545   ,  36.16438  , 372.52228  , ...,   0.       ,\n",
       "          698.36597  , 692.27966  ]],\n",
       "\n",
       "        [[  0.       ,  68.91937  ,   0.       , ...,   0.       ,\n",
       "            0.       ,   0.       ],\n",
       "         [  3.71517  ,  56.749004 , 115.33566  , ...,   0.       ,\n",
       "            2.9643915,  21.566965 ],\n",
       "         [  3.71517  ,  56.749004 , 115.33566  , ...,   0.       ,\n",
       "            2.9643915,  21.566965 ],\n",
       "         ...,\n",
       "         [  3.71517  ,  56.749004 , 115.33566  , ...,   0.       ,\n",
       "            2.9643915,  21.566965 ],\n",
       "         [  3.71517  ,  56.749004 , 115.33566  , ...,   0.       ,\n",
       "            2.9643915,  21.566965 ],\n",
       "         [688.5545   ,  36.16438  , 372.52228  , ...,   0.       ,\n",
       "          698.36597  , 692.27966  ]],\n",
       "\n",
       "        ...,\n",
       "\n",
       "        [[  0.       ,  68.91937  ,   0.       , ...,   0.       ,\n",
       "            0.       ,   0.       ],\n",
       "         [  3.71517  ,  56.749004 , 115.33566  , ...,   0.       ,\n",
       "            2.9643915,  21.566965 ],\n",
       "         [  3.71517  ,  56.749004 , 115.33566  , ...,   0.       ,\n",
       "            2.9643915,  21.566965 ],\n",
       "         ...,\n",
       "         [  3.71517  ,  56.749004 , 115.33566  , ...,   0.       ,\n",
       "            2.9643915,  21.566965 ],\n",
       "         [  3.71517  ,  56.749004 , 115.33566  , ...,   0.       ,\n",
       "            2.9643915,  21.566965 ],\n",
       "         [688.5545   ,  36.16438  , 372.52228  , ...,   0.       ,\n",
       "          698.36597  , 692.27966  ]],\n",
       "\n",
       "        [[  0.       ,  68.91937  ,   0.       , ...,   0.       ,\n",
       "            0.       ,   0.       ],\n",
       "         [  3.71517  ,  56.749004 , 115.33566  , ...,   0.       ,\n",
       "            2.9643915,  21.566965 ],\n",
       "         [  3.71517  ,  56.749004 , 115.33566  , ...,   0.       ,\n",
       "            2.9643915,  21.566965 ],\n",
       "         ...,\n",
       "         [  3.71517  ,  56.749004 , 115.33566  , ...,   0.       ,\n",
       "            2.9643915,  21.566965 ],\n",
       "         [  3.71517  ,  56.749004 , 115.33566  , ...,   0.       ,\n",
       "            2.9643915,  21.566965 ],\n",
       "         [688.5545   ,  36.16438  , 372.52228  , ...,   0.       ,\n",
       "          698.36597  , 692.27966  ]],\n",
       "\n",
       "        [[  0.       ,  47.602123 ,   0.       , ...,   0.       ,\n",
       "            0.       ,   0.       ],\n",
       "         [589.9002   ,  36.701557 , 176.86517  , ...,   0.       ,\n",
       "            0.       , 124.11603  ],\n",
       "         [589.9002   ,  36.701557 , 176.86517  , ...,   0.       ,\n",
       "            0.       , 124.11603  ],\n",
       "         ...,\n",
       "         [589.9002   ,  36.701557 , 176.86517  , ...,   0.       ,\n",
       "            0.       , 124.11603  ],\n",
       "         [589.9002   ,  36.701557 , 176.86517  , ...,   0.       ,\n",
       "            0.       , 124.11603  ],\n",
       "         [955.0605   ,  22.23215  , 335.48172  , ...,   0.       ,\n",
       "          263.1296   , 576.29065  ]]]], dtype=float32)>"
      ]
     },
     "execution_count": 58,
     "metadata": {},
     "output_type": "execute_result"
    }
   ],
   "source": [
    "## Example: Running the input through only this layer: \n",
    "features_layer1(img_array)"
   ]
  },
  {
   "cell_type": "code",
   "execution_count": 62,
   "metadata": {},
   "outputs": [
    {
     "data": {
      "text/plain": [
       "[<tf.Variable 'block1_conv1/kernel:0' shape=(3, 3, 3, 64) dtype=float32, numpy=\n",
       " array([[[[ 4.29470569e-01,  1.17273867e-01,  3.40129584e-02, ...,\n",
       "           -1.32241577e-01, -5.33475243e-02,  7.57738389e-03],\n",
       "          [ 5.50379455e-01,  2.08774377e-02,  9.88311544e-02, ...,\n",
       "           -8.48205537e-02, -5.11389151e-02,  3.74943428e-02],\n",
       "          [ 4.80015397e-01, -1.72696680e-01,  3.75577137e-02, ...,\n",
       "           -1.27135560e-01, -5.02991639e-02,  3.48965675e-02]],\n",
       " \n",
       "         [[ 3.73466998e-01,  1.62062630e-01,  1.70863140e-03, ...,\n",
       "           -1.48207128e-01, -2.35300660e-01, -6.30356818e-02],\n",
       "          [ 4.40074533e-01,  4.73412387e-02,  5.13819456e-02, ...,\n",
       "           -9.88498852e-02, -2.96195745e-01, -7.04357103e-02],\n",
       "          [ 4.08547401e-01, -1.70375049e-01, -4.96297423e-03, ...,\n",
       "           -1.22360572e-01, -2.76450396e-01, -3.90796512e-02]],\n",
       " \n",
       "         [[-6.13601133e-02,  1.35693997e-01, -1.15694344e-01, ...,\n",
       "           -1.40158370e-01, -3.77666801e-01, -3.00509870e-01],\n",
       "          [-8.13870355e-02,  4.18543853e-02, -1.01763301e-01, ...,\n",
       "           -9.43124294e-02, -5.05662560e-01, -3.83694321e-01],\n",
       "          [-6.51455522e-02, -1.54351532e-01, -1.38038069e-01, ...,\n",
       "           -1.29404560e-01, -4.62243795e-01, -3.23985279e-01]]],\n",
       " \n",
       " \n",
       "        [[[ 2.74769872e-01,  1.48350164e-01,  1.61559835e-01, ...,\n",
       "           -1.14316158e-01,  3.65494519e-01,  3.39938998e-01],\n",
       "          [ 3.45739067e-01,  3.10493708e-02,  2.40750551e-01, ...,\n",
       "           -6.93419054e-02,  4.37116861e-01,  4.13171440e-01],\n",
       "          [ 3.10477257e-01, -1.87601492e-01,  1.66595340e-01, ...,\n",
       "           -9.88388434e-02,  4.04058546e-01,  3.92561197e-01]],\n",
       " \n",
       "         [[ 3.86807770e-02,  2.02298447e-01,  1.56414255e-01, ...,\n",
       "           -5.20089604e-02,  2.57149011e-01,  3.71682674e-01],\n",
       "          [ 4.06322069e-02,  6.58102185e-02,  2.20311403e-01, ...,\n",
       "           -3.78979952e-03,  2.69412428e-01,  4.09505904e-01],\n",
       "          [ 5.02023660e-02, -1.77571565e-01,  1.51188180e-01, ...,\n",
       "           -1.40649760e-02,  2.59300828e-01,  4.23764467e-01]],\n",
       " \n",
       "         [[-3.67223352e-01,  1.61688417e-01, -8.99365395e-02, ...,\n",
       "           -1.45945460e-01, -2.71823555e-01, -2.39718184e-01],\n",
       "          [-4.53501314e-01,  4.62574959e-02, -6.67438358e-02, ...,\n",
       "           -1.03502415e-01, -3.45792353e-01, -2.92486250e-01],\n",
       "          [-4.03383434e-01, -1.74399972e-01, -1.09849639e-01, ...,\n",
       "           -1.25688612e-01, -3.14026326e-01, -2.32839763e-01]]],\n",
       " \n",
       " \n",
       "        [[[-5.74681684e-02,  1.29344285e-01,  1.29030216e-02, ...,\n",
       "           -1.41449392e-01,  2.41099641e-01,  4.55602147e-02],\n",
       "          [-5.86349145e-02,  3.16787697e-02,  7.59588331e-02, ...,\n",
       "           -1.05017252e-01,  3.39550197e-01,  9.86374393e-02],\n",
       "          [-5.08716851e-02, -1.66002661e-01,  1.56279504e-02, ...,\n",
       "           -1.49742723e-01,  3.06801915e-01,  8.82701725e-02]],\n",
       " \n",
       "         [[-2.62249678e-01,  1.71572417e-01,  5.44555223e-05, ...,\n",
       "           -1.22728683e-01,  2.44687453e-01,  5.32913655e-02],\n",
       "          [-3.30669671e-01,  5.47101051e-02,  4.86797579e-02, ...,\n",
       "           -8.29023942e-02,  2.95466095e-01,  7.44469985e-02],\n",
       "          [-2.85227507e-01, -1.66666731e-01, -7.96697661e-03, ...,\n",
       "           -1.09780088e-01,  2.79203743e-01,  9.46525261e-02]],\n",
       " \n",
       "         [[-3.50096762e-01,  1.38710454e-01, -1.25339806e-01, ...,\n",
       "           -1.53092295e-01, -1.39917329e-01, -2.65075237e-01],\n",
       "          [-4.85030204e-01,  4.23195846e-02, -1.12076312e-01, ...,\n",
       "           -1.18306056e-01, -1.67058021e-01, -3.22241962e-01],\n",
       "          [-4.18516338e-01, -1.57048807e-01, -1.49133086e-01, ...,\n",
       "           -1.56839803e-01, -1.42874300e-01, -2.69694626e-01]]]],\n",
       "       dtype=float32)>,\n",
       " <tf.Variable 'block1_conv1/bias:0' shape=(64,) dtype=float32, numpy=\n",
       " array([ 0.73429835,  0.09340367,  0.06775674,  0.8862966 ,  0.25994542,\n",
       "         0.66426694, -0.01582893,  0.3249065 ,  0.68600726,  0.06247932,\n",
       "         0.58156496,  0.2361475 ,  0.69694996,  0.19451167,  0.4858922 ,\n",
       "         0.44571847,  0.5113422 ,  0.208576  ,  0.57557714,  0.33199573,\n",
       "         0.4997983 ,  0.7117759 ,  0.30284074,  0.7082712 ,  0.04548979,\n",
       "         0.7446502 ,  0.29845494,  0.48211655,  0.81658626,  0.62603897,\n",
       "         0.3768093 ,  2.064037  ,  0.77311045,  0.3459577 ,  0.6130958 ,\n",
       "         0.65459156,  0.39045632,  0.50869167,  0.2625384 ,  0.23669638,\n",
       "         0.07971057,  1.1179353 ,  0.26129362,  0.8697589 ,  0.21543622,\n",
       "         0.78007823,  0.37015367,  0.47993386,  0.4313978 ,  0.5084194 ,\n",
       "         0.23049663,  0.7636527 ,  0.35419866,  0.45794216,  0.4662595 ,\n",
       "         0.09850298,  0.3803252 ,  0.66880196,  0.4015123 ,  0.90510356,\n",
       "         0.43166816,  1.302014  ,  0.5306885 ,  0.48993504], dtype=float32)>]"
      ]
     },
     "execution_count": 62,
     "metadata": {},
     "output_type": "execute_result"
    }
   ],
   "source": [
    "## Get weights from this layer. \n",
    "features_layer1.weights"
   ]
  },
  {
   "cell_type": "code",
   "execution_count": null,
   "metadata": {},
   "outputs": [],
   "source": []
  }
 ],
 "metadata": {
  "kernelspec": {
   "display_name": "Python 3",
   "language": "python",
   "name": "python3"
  },
  "language_info": {
   "codemirror_mode": {
    "name": "ipython",
    "version": 3
   },
   "file_extension": ".py",
   "mimetype": "text/x-python",
   "name": "python",
   "nbconvert_exporter": "python",
   "pygments_lexer": "ipython3",
   "version": "3.7.6"
  }
 },
 "nbformat": 4,
 "nbformat_minor": 4
}
